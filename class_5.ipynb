{
 "cells": [
  {
   "cell_type": "code",
   "execution_count": null,
   "metadata": {},
   "outputs": [],
   "source": [
    "import re\n",
    "\n",
    "def check(str):\n",
    "    if re.seart(\"ab*\", str):\n",
    "        return 'found'\n",
    "    else:\n",
    "        return 'dnfound'\n",
    "\n",
    "print(check('abb'))\n",
    "print(check('a'))\n",
    "print(check('b'))"
   ]
  },
  {
   "cell_type": "markdown",
   "metadata": {},
   "source": [
    "found\n",
    "found\n",
    "dnfound"
   ]
  },
  {
   "cell_type": "code",
   "execution_count": null,
   "metadata": {},
   "outputs": [],
   "source": [
    "import re\n",
    "\n",
    "def check(str):\n",
    "    if re.search(\"ab{2,3}\", str):\n",
    "        return 'found'\n",
    "    else:\n",
    "        return 'dnfound'\n",
    "\n",
    "print(check('abb'))\n",
    "print(check('abbb'))\n",
    "print(check('ab'))"
   ]
  },
  {
   "cell_type": "markdown",
   "metadata": {},
   "source": [
    "found\n",
    "found\n",
    "dnfound"
   ]
  },
  {
   "cell_type": "code",
   "execution_count": null,
   "metadata": {},
   "outputs": [],
   "source": [
    "import re\n",
    "\n",
    "def check(lst):\n",
    "    if re.search(\"[a-z]+_+[a-z]\",lst):\n",
    "        return(\"YES\")\n",
    "    else:\n",
    "        return(\"NO\")\n",
    "    \n",
    "print(check(\"a_a\"))\n",
    "print(check(\"a\"))\n",
    "print(check(\"A_A\"))"
   ]
  },
  {
   "cell_type": "markdown",
   "metadata": {},
   "source": [
    "YES\n",
    "NO\n",
    "NO"
   ]
  },
  {
   "cell_type": "code",
   "execution_count": null,
   "metadata": {},
   "outputs": [],
   "source": [
    "import re\n",
    "\n",
    "def check(str):\n",
    "    if re.search(\"[A-Z]+[a-b]\", str):\n",
    "        return \"yes\"\n",
    "    else:\n",
    "        return \"no\"\n",
    "    \n",
    "print(check(\"ab\"))\n",
    "print(check(\"Ab\"))\n",
    "print(check(\"aB\"))\n"
   ]
  },
  {
   "cell_type": "markdown",
   "metadata": {},
   "source": [
    "no\n",
    "yes\n",
    "no"
   ]
  },
  {
   "cell_type": "code",
   "execution_count": null,
   "metadata": {},
   "outputs": [],
   "source": [
    "import re\n",
    "\n",
    "def check(str):\n",
    "    if re.search(\"^a.*?b$\",str):\n",
    "        return 'yes'\n",
    "    else:\n",
    "        return 'no'\n",
    "    \n",
    "print(check('awwwwb'))\n",
    "print(check('ab'))\n",
    "print(check('aba'))"
   ]
  },
  {
   "cell_type": "markdown",
   "metadata": {},
   "source": [
    "yes\n",
    "yes\n",
    "no"
   ]
  },
  {
   "cell_type": "code",
   "execution_count": null,
   "metadata": {},
   "outputs": [],
   "source": [
    "import re\n",
    "\n",
    "def turn(txt):\n",
    "    txt = re.sub(r\"[,. ]\", \":\", txt)\n",
    "    return txt\n",
    "\n",
    "str = \"a,b.c d\"\n",
    "print(turn(str))"
   ]
  },
  {
   "cell_type": "markdown",
   "metadata": {},
   "source": [
    "a:b:c:d"
   ]
  },
  {
   "cell_type": "code",
   "execution_count": null,
   "metadata": {},
   "outputs": [],
   "source": [
    "import re\n",
    "\n",
    "def turnToCamel(str):\n",
    "    cnt = 0\n",
    "    for idx in list(re.finditer(r\"_\\w\", str)):\n",
    "        str = str[:idx.start() - cnt] + str[idx.start() + 1 - cnt].upper() + str[idx.start() + 2 - cnt:]\n",
    "        cnt += 1\n",
    "    return str\n",
    "\n",
    "str = \"snake_to_camel\"\n",
    "print(turnToCamel(str))"
   ]
  },
  {
   "cell_type": "markdown",
   "metadata": {},
   "source": [
    "snakeToCamel"
   ]
  },
  {
   "cell_type": "code",
   "execution_count": null,
   "metadata": {},
   "outputs": [],
   "source": [
    "import re\n",
    "\n",
    "def split_str(str):\n",
    "    return re.findall(r\"[A-Z]?[a-z]+|[A-Z]+(?![a-z])\", str)\n",
    "\n",
    "str = 'aAbBcCd'\n",
    "print(split_str(str))"
   ]
  },
  {
   "cell_type": "markdown",
   "metadata": {},
   "source": [
    "['a', 'Ab', 'Bc', 'Cd']"
   ]
  },
  {
   "cell_type": "code",
   "execution_count": null,
   "metadata": {},
   "outputs": [],
   "source": [
    "import re\n",
    "\n",
    "def splitCamel(str):\n",
    "    cnt = 0\n",
    "    for idx in re.finditer(r\"[A-Z]\", str):\n",
    "        str = str[:idx.start() + cnt] + ' ' + str[idx.start() + cnt:]\n",
    "        cnt += 1\n",
    "    return str\n",
    "\n",
    "str = 'snakeToCamel'\n",
    "print(splitCamel(str))"
   ]
  },
  {
   "cell_type": "markdown",
   "metadata": {},
   "source": [
    "snake To Camel"
   ]
  },
  {
   "cell_type": "code",
   "execution_count": null,
   "metadata": {},
   "outputs": [],
   "source": [
    "import re\n",
    "\n",
    "def camel_to_snake(str):\n",
    "    cnt = 0\n",
    "    for idx in re.finditer(r\"[A-Z]\", str):\n",
    "        str = str.replace(str[idx.start() + cnt], '_' + str[idx.start() + cnt].lower())\n",
    "        cnt += 1\n",
    "    return str\n",
    "str = 'camelToSnake'\n",
    "print(camel_to_snake(str))"
   ]
  },
  {
   "cell_type": "markdown",
   "metadata": {},
   "source": [
    "camel_to_snake"
   ]
  }
 ],
 "metadata": {
  "kernelspec": {
   "display_name": "Python 3",
   "language": "python",
   "name": "python3"
  },
  "language_info": {
   "name": "python",
   "version": "3.12.7"
  }
 },
 "nbformat": 4,
 "nbformat_minor": 2
}
